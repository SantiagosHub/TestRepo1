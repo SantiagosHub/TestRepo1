{
 "cells": [
  {
   "cell_type": "markdown",
   "id": "dc689354",
   "metadata": {},
   "source": [
    "# Data Science Tools and Ecosystem"
   ]
  },
  {
   "cell_type": "markdown",
   "id": "d81d39fa",
   "metadata": {},
   "source": [
    "In this notebook, Data Science Tools and Ecosystem are summarized."
   ]
  },
  {
   "cell_type": "markdown",
   "id": "e2fe55cb",
   "metadata": {},
   "source": [
    "**Objectives:**\n",
    "\n",
    "* List popular languages for Data Science\n",
    "* List common libraries for Data Science\n",
    "* Table of Data Science tools\n",
    "* Arithmetic expressions in Python\n",
    "* Simple arithmetic expression to mutiply then add integers by using Python\n",
    "* How to convert minutes to hours in Python"
   ]
  },
  {
   "cell_type": "markdown",
   "id": "5f96e7e5",
   "metadata": {},
   "source": [
    "Some of the popular languages that Data Scientists use are:\n",
    "1. Python\n",
    "2. R\n",
    "3. SQL\n",
    "4. Java\n",
    "5. Julia\n",
    "6. Matlab\n"
   ]
  },
  {
   "cell_type": "markdown",
   "id": "717a8e92",
   "metadata": {},
   "source": [
    "Some of the commonly used libraries used by Data Scientists include:\n",
    "1. Pandas\n",
    "2. NumPy\n",
    "3. Matplotlib\n",
    "4. Scipy"
   ]
  },
  {
   "cell_type": "markdown",
   "id": "02f04b78",
   "metadata": {},
   "source": [
    "| Data Science Tools |\n",
    "|:---------------------:|\n",
    "| Jupyter Notebook |\n",
    "| RStudio |\n",
    "| Apache Zeppelin |\n",
    "| Visual Studio Code (VS Code)|\n"
   ]
  },
  {
   "cell_type": "markdown",
   "id": "ba8d689c",
   "metadata": {},
   "source": [
    "### Below are a few examples of evaluating arithmetic expressions in Python"
   ]
  },
  {
   "cell_type": "code",
   "execution_count": 1,
   "id": "161fdaad",
   "metadata": {},
   "outputs": [
    {
     "data": {
      "text/plain": [
       "17"
      ]
     },
     "execution_count": 1,
     "metadata": {},
     "output_type": "execute_result"
    }
   ],
   "source": [
    "#his a simple arithmetic expression to mutiply then add integers\n",
    "(3*4)+5"
   ]
  },
  {
   "cell_type": "code",
   "execution_count": 2,
   "id": "14d1b677",
   "metadata": {},
   "outputs": [
    {
     "data": {
      "text/plain": [
       "3.3333333333333335"
      ]
     },
     "execution_count": 2,
     "metadata": {},
     "output_type": "execute_result"
    }
   ],
   "source": [
    "#This will convert 200 minutes to hours by diving by 60\n",
    "200/60"
   ]
  },
  {
   "cell_type": "markdown",
   "id": "766e9fd0",
   "metadata": {},
   "source": [
    "## Author\n",
    "Lakshmi Holla\n",
    "\n",
    "Niveditha Pandith\n",
    "\n",
    "Santiago M Barboza"
   ]
  },
  {
   "cell_type": "code",
   "execution_count": null,
   "id": "0fc51ebf",
   "metadata": {},
   "outputs": [],
   "source": []
  }
 ],
 "metadata": {
  "kernelspec": {
   "display_name": "Python 3 (ipykernel)",
   "language": "python",
   "name": "python3"
  },
  "language_info": {
   "codemirror_mode": {
    "name": "ipython",
    "version": 3
   },
   "file_extension": ".py",
   "mimetype": "text/x-python",
   "name": "python",
   "nbconvert_exporter": "python",
   "pygments_lexer": "ipython3",
   "version": "3.11.4"
  }
 },
 "nbformat": 4,
 "nbformat_minor": 5
}
